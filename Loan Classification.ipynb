{
 "cells": [
  {
   "cell_type": "markdown",
   "id": "ad502dfd",
   "metadata": {
    "heading_collapsed": true
   },
   "source": [
    "# Import"
   ]
  },
  {
   "cell_type": "code",
   "execution_count": 1,
   "id": "862bea8b",
   "metadata": {
    "hidden": true
   },
   "outputs": [],
   "source": [
    "# Basic libraries\n",
    "import pandas as pd\n",
    "import numpy as np\n",
    "import seaborn as sns\n",
    "import matplotlib.pyplot as plt\n",
    "%matplotlib inline\n",
    "\n",
    "# Validation metrics\n",
    "from sklearn.metrics import accuracy_score, precision_score, recall_score\n",
    "from sklearn.metrics import roc_auc_score\n",
    "\n",
    "# Classification models\n",
    "from sklearn.model_selection import cross_val_predict\n",
    "from sklearn.model_selection import train_test_split\n",
    "from sklearn.preprocessing import StandardScaler\n",
    "from sklearn.linear_model import LogisticRegression\n",
    "from sklearn.tree import DecisionTreeClassifier\n",
    "from sklearn.neighbors import KNeighborsClassifier\n",
    "from sklearn.ensemble import GradientBoostingClassifier\n",
    "from sklearn.ensemble import RandomForestClassifier \n",
    "from xgboost import XGBClassifier\n",
    "\n",
    "import warnings\n",
    "warnings.filterwarnings(\"ignore\")"
   ]
  },
  {
   "cell_type": "markdown",
   "id": "08c6c27b",
   "metadata": {
    "heading_collapsed": true
   },
   "source": [
    "# Dataset"
   ]
  },
  {
   "cell_type": "code",
   "execution_count": 2,
   "id": "4340cd17",
   "metadata": {
    "hidden": true
   },
   "outputs": [],
   "source": [
    "train_df = pd.read_csv(\"./train_loan.csv\")\n",
    "test_df = pd.read_csv(\"./test_loan.csv\")"
   ]
  },
  {
   "cell_type": "code",
   "execution_count": 3,
   "id": "8100f912",
   "metadata": {
    "hidden": true
   },
   "outputs": [
    {
     "data": {
      "text/plain": [
       "(614, 13)"
      ]
     },
     "execution_count": 3,
     "metadata": {},
     "output_type": "execute_result"
    }
   ],
   "source": [
    "train_df.shape"
   ]
  },
  {
   "cell_type": "code",
   "execution_count": 4,
   "id": "2aa6b1bf",
   "metadata": {
    "hidden": true
   },
   "outputs": [
    {
     "data": {
      "text/html": [
       "<div>\n",
       "<style scoped>\n",
       "    .dataframe tbody tr th:only-of-type {\n",
       "        vertical-align: middle;\n",
       "    }\n",
       "\n",
       "    .dataframe tbody tr th {\n",
       "        vertical-align: top;\n",
       "    }\n",
       "\n",
       "    .dataframe thead th {\n",
       "        text-align: right;\n",
       "    }\n",
       "</style>\n",
       "<table border=\"1\" class=\"dataframe\">\n",
       "  <thead>\n",
       "    <tr style=\"text-align: right;\">\n",
       "      <th></th>\n",
       "      <th>Loan_ID</th>\n",
       "      <th>Gender</th>\n",
       "      <th>Married</th>\n",
       "      <th>Dependents</th>\n",
       "      <th>Education</th>\n",
       "      <th>Self_Employed</th>\n",
       "      <th>ApplicantIncome</th>\n",
       "      <th>CoapplicantIncome</th>\n",
       "      <th>LoanAmount</th>\n",
       "      <th>Loan_Amount_Term</th>\n",
       "      <th>Credit_History</th>\n",
       "      <th>Property_Area</th>\n",
       "      <th>Loan_Status</th>\n",
       "    </tr>\n",
       "  </thead>\n",
       "  <tbody>\n",
       "    <tr>\n",
       "      <th>0</th>\n",
       "      <td>LP001002</td>\n",
       "      <td>Male</td>\n",
       "      <td>No</td>\n",
       "      <td>0</td>\n",
       "      <td>Graduate</td>\n",
       "      <td>No</td>\n",
       "      <td>5849</td>\n",
       "      <td>0.0</td>\n",
       "      <td>NaN</td>\n",
       "      <td>360.0</td>\n",
       "      <td>1.0</td>\n",
       "      <td>Urban</td>\n",
       "      <td>Y</td>\n",
       "    </tr>\n",
       "    <tr>\n",
       "      <th>1</th>\n",
       "      <td>LP001003</td>\n",
       "      <td>Male</td>\n",
       "      <td>Yes</td>\n",
       "      <td>1</td>\n",
       "      <td>Graduate</td>\n",
       "      <td>No</td>\n",
       "      <td>4583</td>\n",
       "      <td>1508.0</td>\n",
       "      <td>128.0</td>\n",
       "      <td>360.0</td>\n",
       "      <td>1.0</td>\n",
       "      <td>Rural</td>\n",
       "      <td>N</td>\n",
       "    </tr>\n",
       "    <tr>\n",
       "      <th>2</th>\n",
       "      <td>LP001005</td>\n",
       "      <td>Male</td>\n",
       "      <td>Yes</td>\n",
       "      <td>0</td>\n",
       "      <td>Graduate</td>\n",
       "      <td>Yes</td>\n",
       "      <td>3000</td>\n",
       "      <td>0.0</td>\n",
       "      <td>66.0</td>\n",
       "      <td>360.0</td>\n",
       "      <td>1.0</td>\n",
       "      <td>Urban</td>\n",
       "      <td>Y</td>\n",
       "    </tr>\n",
       "    <tr>\n",
       "      <th>3</th>\n",
       "      <td>LP001006</td>\n",
       "      <td>Male</td>\n",
       "      <td>Yes</td>\n",
       "      <td>0</td>\n",
       "      <td>Not Graduate</td>\n",
       "      <td>No</td>\n",
       "      <td>2583</td>\n",
       "      <td>2358.0</td>\n",
       "      <td>120.0</td>\n",
       "      <td>360.0</td>\n",
       "      <td>1.0</td>\n",
       "      <td>Urban</td>\n",
       "      <td>Y</td>\n",
       "    </tr>\n",
       "    <tr>\n",
       "      <th>4</th>\n",
       "      <td>LP001008</td>\n",
       "      <td>Male</td>\n",
       "      <td>No</td>\n",
       "      <td>0</td>\n",
       "      <td>Graduate</td>\n",
       "      <td>No</td>\n",
       "      <td>6000</td>\n",
       "      <td>0.0</td>\n",
       "      <td>141.0</td>\n",
       "      <td>360.0</td>\n",
       "      <td>1.0</td>\n",
       "      <td>Urban</td>\n",
       "      <td>Y</td>\n",
       "    </tr>\n",
       "  </tbody>\n",
       "</table>\n",
       "</div>"
      ],
      "text/plain": [
       "    Loan_ID Gender Married Dependents     Education Self_Employed  \\\n",
       "0  LP001002   Male      No          0      Graduate            No   \n",
       "1  LP001003   Male     Yes          1      Graduate            No   \n",
       "2  LP001005   Male     Yes          0      Graduate           Yes   \n",
       "3  LP001006   Male     Yes          0  Not Graduate            No   \n",
       "4  LP001008   Male      No          0      Graduate            No   \n",
       "\n",
       "   ApplicantIncome  CoapplicantIncome  LoanAmount  Loan_Amount_Term  \\\n",
       "0             5849                0.0         NaN             360.0   \n",
       "1             4583             1508.0       128.0             360.0   \n",
       "2             3000                0.0        66.0             360.0   \n",
       "3             2583             2358.0       120.0             360.0   \n",
       "4             6000                0.0       141.0             360.0   \n",
       "\n",
       "   Credit_History Property_Area Loan_Status  \n",
       "0             1.0         Urban           Y  \n",
       "1             1.0         Rural           N  \n",
       "2             1.0         Urban           Y  \n",
       "3             1.0         Urban           Y  \n",
       "4             1.0         Urban           Y  "
      ]
     },
     "execution_count": 4,
     "metadata": {},
     "output_type": "execute_result"
    }
   ],
   "source": [
    "train_df.head()"
   ]
  },
  {
   "cell_type": "code",
   "execution_count": 5,
   "id": "09df934d",
   "metadata": {
    "hidden": true
   },
   "outputs": [
    {
     "name": "stdout",
     "output_type": "stream",
     "text": [
      "<class 'pandas.core.frame.DataFrame'>\n",
      "RangeIndex: 614 entries, 0 to 613\n",
      "Data columns (total 13 columns):\n",
      " #   Column             Non-Null Count  Dtype  \n",
      "---  ------             --------------  -----  \n",
      " 0   Loan_ID            614 non-null    object \n",
      " 1   Gender             601 non-null    object \n",
      " 2   Married            611 non-null    object \n",
      " 3   Dependents         599 non-null    object \n",
      " 4   Education          614 non-null    object \n",
      " 5   Self_Employed      582 non-null    object \n",
      " 6   ApplicantIncome    614 non-null    int64  \n",
      " 7   CoapplicantIncome  614 non-null    float64\n",
      " 8   LoanAmount         592 non-null    float64\n",
      " 9   Loan_Amount_Term   600 non-null    float64\n",
      " 10  Credit_History     564 non-null    float64\n",
      " 11  Property_Area      614 non-null    object \n",
      " 12  Loan_Status        614 non-null    object \n",
      "dtypes: float64(4), int64(1), object(8)\n",
      "memory usage: 62.5+ KB\n"
     ]
    }
   ],
   "source": [
    "train_df.info()"
   ]
  },
  {
   "cell_type": "code",
   "execution_count": 6,
   "id": "53b31964",
   "metadata": {
    "hidden": true
   },
   "outputs": [
    {
     "data": {
      "text/plain": [
       "<Figure size 720x360 with 0 Axes>"
      ]
     },
     "metadata": {},
     "output_type": "display_data"
    },
    {
     "data": {
      "image/png": "[encoded data removed]",
      "text/plain": [
       "<Figure size 691.25x360 with 1 Axes>"
      ]
     },
     "metadata": {
      "needs_background": "light"
     },
     "output_type": "display_data"
    }
   ],
   "source": [
    "# Visualization of the missing values\n",
    "plt.figure(figsize=(10,5))\n",
    "sns.displot(train_df.isna().melt(value_name=\"Missing\", var_name=\"Variables\"), y=\"Variables\", hue=\"Missing\", multiple=\"fill\",  aspect=1.75)\n",
    "\n",
    "plt.title(\"Volume of missing values of each variable\", pad=15)\n",
    "plt.show()"
   ]
  },
  {
   "cell_type": "markdown",
   "id": "d4a013bc",
   "metadata": {
    "heading_collapsed": true
   },
   "source": [
    "# EDA & preprocessing"
   ]
  },
  {
   "cell_type": "markdown",
   "id": "3da2d7ba",
   "metadata": {
    "hidden": true
   },
   "source": [
    "Observing each variable, checking the distributions of their values, filling the missing ones."
   ]
  },
  {
   "cell_type": "markdown",
   "id": "74bdc229",
   "metadata": {
    "heading_collapsed": true,
    "hidden": true
   },
   "source": [
    "## Visualization"
   ]
  },
  {
   "cell_type": "code",
   "execution_count": 7,
   "id": "84399874",
   "metadata": {
    "hidden": true
   },
   "outputs": [
    {
     "data": {
      "image/png": "[encoded data removed]",
      "text/plain": [
       "<Figure size 1224x288 with 3 Axes>"
      ]
     },
     "metadata": {
      "needs_background": "light"
     },
     "output_type": "display_data"
    }
   ],
   "source": [
    "# Checking the distributions of categorical features\n",
    "\n",
    "fig, ax  = plt.subplots(1,3, figsize=(17,4))\n",
    "\n",
    "train_df[\"Gender\"].value_counts().plot(kind=\"bar\", ax=ax[0], title=\"Gender\")\n",
    "train_df[\"Married\"].value_counts().plot(kind=\"bar\", ax=ax[1], title=\"Married\")\n",
    "train_df[\"Dependents\"].value_counts().plot(kind=\"bar\", ax=ax[2], title=\"Dependents\")\n",
    "\n",
    "plt.show()"
   ]
  },
  {
   "cell_type": "code",
   "execution_count": 8,
   "id": "abf68037",
   "metadata": {
    "hidden": true
   },
   "outputs": [
    {
     "data": {
      "image/png": "[encoded data removed]",
      "text/plain": [
       "<Figure size 1224x288 with 4 Axes>"
      ]
     },
     "metadata": {
      "needs_background": "light"
     },
     "output_type": "display_data"
    }
   ],
   "source": [
    "fig, ax = plt.subplots(1,4, figsize=(17,4))\n",
    "\n",
    "train_df[\"Education\"].value_counts().plot(kind=\"bar\", ax=ax[0], title=\"Education\")\n",
    "train_df[\"Credit_History\"].value_counts().plot(kind=\"bar\", ax=ax[1], title=\"Credit history\")\n",
    "train_df[\"Property_Area\"].value_counts().plot(kind=\"bar\", ax=ax[2], title=\"Property area\")\n",
    "train_df[\"Self_Employed\"].value_counts().plot(kind=\"bar\", ax=ax[3], title=\"Self employed\")\n",
    "plt.show()"
   ]
  },
  {
   "cell_type": "code",
   "execution_count": 9,
   "id": "423a7ec9",
   "metadata": {
    "hidden": true
   },
   "outputs": [
    {
     "data": {
      "image/png": "[encoded data removed]",
      "text/plain": [
       "<Figure size 432x288 with 1 Axes>"
      ]
     },
     "metadata": {
      "needs_background": "light"
     },
     "output_type": "display_data"
    }
   ],
   "source": [
    "# 69% of the loan requests were accepted\n",
    "train_df[\"Loan_Status\"].value_counts().plot(kind=\"bar\", title=\"Distribution of loan status\")\n",
    "plt.show()"
   ]
  },
  {
   "cell_type": "code",
   "execution_count": 10,
   "id": "3533ba3b",
   "metadata": {
    "hidden": true
   },
   "outputs": [],
   "source": [
    "train_df[\"Loan_Status\"] = train_df[\"Loan_Status\"].apply(lambda x: 1 if x == \"Y\" else 0)"
   ]
  },
  {
   "cell_type": "markdown",
   "id": "1b7951cb",
   "metadata": {
    "hidden": true
   },
   "source": [
    "## Missing values, encoding"
   ]
  },
  {
   "cell_type": "markdown",
   "id": "a8d446ac",
   "metadata": {
    "hidden": true
   },
   "source": [
    "The distributions of each categorical feature are helping us which value would be suitable for filling the missing values. \n",
    "\n",
    "After we parsed which categorical value would be better to fill up the missing one, we have to encode each categories to make classification process easier for the models.\n",
    "\n",
    "There are several ways to encode categorical variables:"
   ]
  },
  {
   "cell_type": "markdown",
   "id": "a45ff7cd",
   "metadata": {
    "heading_collapsed": true,
    "hidden": true
   },
   "source": [
    "### Binary categorical variable"
   ]
  },
  {
   "cell_type": "code",
   "execution_count": 11,
   "id": "7b2ea80e",
   "metadata": {
    "hidden": true
   },
   "outputs": [],
   "source": [
    "# Simply encoding binary genders as Male=0, Female=1 using lambda function. With this method we also filling the NaN values as a Male. \n",
    "train_df[\"Gender\"] = train_df[\"Gender\"].apply(lambda x: 1 if x == \"Female\" else 0)"
   ]
  },
  {
   "cell_type": "code",
   "execution_count": 12,
   "id": "af5c400c",
   "metadata": {
    "hidden": true
   },
   "outputs": [],
   "source": [
    "# Fill up the missing Married status with \"Yes\", then encoding binary.\n",
    "train_df[\"Married\"] = train_df[\"Married\"].fillna(\"Yes\")\n",
    "train_df[\"Married\"] = train_df[\"Married\"].apply(lambda x: 1 if x == \"Yes\" else 0)"
   ]
  },
  {
   "cell_type": "code",
   "execution_count": 13,
   "id": "69f9e394",
   "metadata": {
    "hidden": true
   },
   "outputs": [],
   "source": [
    "# Same with other categorical features\n",
    "train_df[\"Education\"] = train_df[\"Education\"].fillna(\"Graduate\")\n",
    "train_df[\"Education\"] = train_df[\"Education\"].apply(lambda x: 1 if x == \"Graduate\" else 0)\n",
    "\n",
    "train_df[\"Self_Employed\"] = train_df[\"Self_Employed\"].apply(lambda x: 1 if x == \"Yes\" else 0)\n",
    "\n",
    "train_df[\"Credit_History\"] = train_df[\"Credit_History\"].fillna(1.0)\n",
    "train_df[\"Credit_History\"] = train_df[\"Credit_History\"].apply(lambda x: 1 if x == 1.0 else 0)"
   ]
  },
  {
   "cell_type": "markdown",
   "id": "7f34c9e1",
   "metadata": {
    "heading_collapsed": true,
    "hidden": true
   },
   "source": [
    "### Multilevel categorical variable"
   ]
  },
  {
   "cell_type": "markdown",
   "id": "fabeb47c",
   "metadata": {
    "hidden": true
   },
   "source": [
    "Map function"
   ]
  },
  {
   "cell_type": "code",
   "execution_count": 14,
   "id": "1bb0d737",
   "metadata": {
    "hidden": true
   },
   "outputs": [],
   "source": [
    "# If there are more categories than two, one way to encode them easier is using map function.\n",
    "\n",
    "# Creating the dictionary for encoding\n",
    "dep_map = {\"0\":0, \"1\":1, \"2\":2, \"3+\":3}\n",
    "\n",
    "# Filling up the missing values\n",
    "train_df[\"Dependents\"] = train_df[\"Dependents\"].fillna(\"0\")\n",
    "\n",
    "# And execute map function\n",
    "train_df[\"Dependents\"] = train_df[\"Dependents\"].map(dep_map)\n",
    "\n",
    "# Converting float values to integer\n",
    "train_df[\"Dependents\"] = train_df[\"Dependents\"].astype(int)"
   ]
  },
  {
   "cell_type": "markdown",
   "id": "dc932a0c",
   "metadata": {
    "hidden": true
   },
   "source": [
    "LabelEncoder"
   ]
  },
  {
   "cell_type": "code",
   "execution_count": 15,
   "id": "a6d2727f",
   "metadata": {
    "hidden": true,
    "scrolled": true
   },
   "outputs": [
    {
     "data": {
      "image/png": "[encoded data removed]",
      "text/plain": [
       "<Figure size 432x288 with 1 Axes>"
      ]
     },
     "metadata": {
      "needs_background": "light"
     },
     "output_type": "display_data"
    }
   ],
   "source": [
    "# An easier way to encode multi level categories is LabelEncoder\n",
    "# In Label Encoding retaining the order of categories is essential\n",
    "# The lenght of the loan term can also an important information for classification \n",
    "# \\so lableling with the right order is vital\n",
    "from sklearn.preprocessing import LabelEncoder\n",
    "le = LabelEncoder()\n",
    "\n",
    "plt.hist(train_df[\"Loan_Amount_Term\"], bins=10)\n",
    "plt.title(\"Distribution of loan term\")\n",
    "plt.xlabel(\"Length of loan term\")\n",
    "plt.show()"
   ]
  },
  {
   "cell_type": "code",
   "execution_count": 16,
   "id": "a3bfbf7a",
   "metadata": {
    "hidden": true
   },
   "outputs": [
    {
     "data": {
      "image/png": "[encoded data removed]",
      "text/plain": [
       "<Figure size 432x288 with 1 Axes>"
      ]
     },
     "metadata": {
      "needs_background": "light"
     },
     "output_type": "display_data"
    }
   ],
   "source": [
    "plt.hist(train_df[\"Loan_Amount_Term\"], bins=10)\n",
    "plt.title(\"Distribution of loan term\")\n",
    "plt.xlabel(\"Length of loan term\")\n",
    "plt.show()"
   ]
  },
  {
   "cell_type": "code",
   "execution_count": 17,
   "id": "f7e2869c",
   "metadata": {
    "hidden": true
   },
   "outputs": [],
   "source": [
    "train_df[\"Loan_Amount_Term\"] = train_df[\"Loan_Amount_Term\"].fillna(360)\n",
    "train_df[\"Loan_Amount_Term\"] = train_df[\"Loan_Amount_Term\"].astype(int)\n",
    "\n",
    "train_df[\"Loan_Amount_Term\"] = le.fit_transform(train_df[\"Loan_Amount_Term\"])"
   ]
  },
  {
   "cell_type": "markdown",
   "id": "8d0f8a98",
   "metadata": {
    "hidden": true
   },
   "source": [
    "Dummy Encoding\n",
    "\n",
    "It is similar to one-hot encoding, but it has a small improvement that it can drop one feature(drop_first=True)."
   ]
  },
  {
   "cell_type": "code",
   "execution_count": 18,
   "id": "06a12977",
   "metadata": {
    "hidden": true
   },
   "outputs": [],
   "source": [
    "# Making a dummy df with a binary encoding technique then concatenate to our basic df\n",
    "prop_df = pd.get_dummies(train_df[\"Property_Area\"], prefix=\"area\")"
   ]
  },
  {
   "cell_type": "code",
   "execution_count": 19,
   "id": "ff5c272a",
   "metadata": {
    "hidden": true
   },
   "outputs": [],
   "source": [
    "# Concatenate horizontaly, not verticaly\n",
    "train_df = pd.concat([train_df, prop_df], axis=1)"
   ]
  },
  {
   "cell_type": "code",
   "execution_count": 20,
   "id": "03598bc3",
   "metadata": {
    "hidden": true
   },
   "outputs": [],
   "source": [
    "train_df[\"area_Semiurban\"] = train_df[\"area_Semiurban\"].astype(int)\n",
    "train_df[\"area_Rural\"] =train_df[\"area_Rural\"].astype(int)\n",
    "train_df[\"area_Urban\"] = train_df[\"area_Urban\"].astype(int)"
   ]
  },
  {
   "cell_type": "markdown",
   "id": "f7bdc09a",
   "metadata": {
    "heading_collapsed": true,
    "hidden": true
   },
   "source": [
    "### Numerical values"
   ]
  },
  {
   "cell_type": "code",
   "execution_count": 21,
   "id": "24e3aee9",
   "metadata": {
    "hidden": true
   },
   "outputs": [
    {
     "data": {
      "image/png": "[encoded data removed]",
      "text/plain": [
       "<Figure size 1224x288 with 3 Axes>"
      ]
     },
     "metadata": {
      "needs_background": "light"
     },
     "output_type": "display_data"
    }
   ],
   "source": [
    "ticks = np.arange(0,80001,20000)\n",
    "fig, ax = plt.subplots(1,3, figsize=(17,4))\n",
    "\n",
    "train_df[\"LoanAmount\"].plot(kind=\"hist\", bins=30, \n",
    "                            ax=ax[0], title=\"Requested loan amount(USD)\")\n",
    "train_df[\"CoapplicantIncome\"].plot(kind=\"hist\", bins=30, \n",
    "                            ax=ax[1], title=\"Income of coapplicants(USD)\")\n",
    "train_df[\"ApplicantIncome\"].plot(kind=\"hist\", bins=10, \n",
    "                            ax=ax[2], title=\"Income of applicants(USD)\",xticks=ticks)\n",
    "\n",
    "plt.show()"
   ]
  },
  {
   "cell_type": "code",
   "execution_count": 22,
   "id": "b5bb9c62",
   "metadata": {
    "hidden": true
   },
   "outputs": [
    {
     "data": {
      "image/png": "[encoded data removed]",
      "text/plain": [
       "<Figure size 1296x360 with 3 Axes>"
      ]
     },
     "metadata": {
      "needs_background": "light"
     },
     "output_type": "display_data"
    }
   ],
   "source": [
    "fig, ax = plt.subplots(1,3, figsize=(18,5))\n",
    "\n",
    "sns.scatterplot(data=train_df, x=\"ApplicantIncome\", y=\"LoanAmount\",\n",
    "                s=70,hue=\"Loan_Status\", \n",
    "                ax=ax[0]).set(title=\"Loan amount and status based on Applicant income\", xticks=ticks)\n",
    "sns.scatterplot(data=train_df, x=\"CoapplicantIncome\", y=\"LoanAmount\",\n",
    "                s=70,hue=\"Loan_Status\", \n",
    "                ax=ax[1]).set(title=\"Loan amount and status based on Coapplicant income\")\n",
    "sns.scatterplot(data=train_df, x=\"Loan_Amount_Term\", y=\"LoanAmount\",\n",
    "                s=70,hue=\"Loan_Status\", ax=ax[2]).set(title=\"Loan amount and status based on loan term\")\n",
    "\n",
    "plt.show()"
   ]
  },
  {
   "cell_type": "markdown",
   "id": "34a7b8cc",
   "metadata": {
    "hidden": true
   },
   "source": [
    "It looks like reasonable to fill up the missing loan amount values with the mean of amounts."
   ]
  },
  {
   "cell_type": "code",
   "execution_count": 23,
   "id": "89b5fc13",
   "metadata": {
    "hidden": true
   },
   "outputs": [],
   "source": [
    "# The mean of the loan amount ~146$.\n",
    "loan_mean = int(round(train_df[\"LoanAmount\"].mean(),0))\n",
    "train_df[\"LoanAmount\"] = train_df[\"LoanAmount\"].fillna(loan_mean).astype(int)"
   ]
  },
  {
   "cell_type": "code",
   "execution_count": 24,
   "id": "055f6f4c",
   "metadata": {
    "hidden": true
   },
   "outputs": [],
   "source": [
    "# Convert the coapplicant column to integer\n",
    "train_df[\"CoapplicantIncome\"] = train_df[\"CoapplicantIncome\"].astype(int) "
   ]
  },
  {
   "cell_type": "code",
   "execution_count": 25,
   "id": "4b7d010d",
   "metadata": {
    "hidden": true
   },
   "outputs": [
    {
     "data": {
      "text/plain": [
       "Loan_ID              0\n",
       "Gender               0\n",
       "Married              0\n",
       "Dependents           0\n",
       "Education            0\n",
       "Self_Employed        0\n",
       "ApplicantIncome      0\n",
       "CoapplicantIncome    0\n",
       "LoanAmount           0\n",
       "Loan_Amount_Term     0\n",
       "Credit_History       0\n",
       "Property_Area        0\n",
       "Loan_Status          0\n",
       "area_Rural           0\n",
       "area_Semiurban       0\n",
       "area_Urban           0\n",
       "dtype: int64"
      ]
     },
     "execution_count": 25,
     "metadata": {},
     "output_type": "execute_result"
    }
   ],
   "source": [
    "# No missing values anymore\n",
    "train_df.isna().sum()"
   ]
  },
  {
   "cell_type": "code",
   "execution_count": 26,
   "id": "e837656d",
   "metadata": {
    "hidden": true
   },
   "outputs": [],
   "source": [
    "# Prepare the dataset we are going to use for heatmap and modeling\n",
    "# Dropping letterbased features and move the target column to the end\n",
    "data = train_df.drop([\"Loan_ID\", \"Property_Area\"], 1)\n",
    "status = data.pop(\"Loan_Status\")\n",
    "data = pd.concat([data, status], 1)"
   ]
  },
  {
   "cell_type": "code",
   "execution_count": 27,
   "id": "91eaf314",
   "metadata": {
    "hidden": true
   },
   "outputs": [
    {
     "data": {
      "image/png": "[encoded data removed]",
      "text/plain": [
       "<Figure size 936x504 with 2 Axes>"
      ]
     },
     "metadata": {
      "needs_background": "light"
     },
     "output_type": "display_data"
    }
   ],
   "source": [
    "# Checking the correlation between the variables on heatmap\n",
    "corr = data.corr()\n",
    "\n",
    "plt.figure(figsize=(13,7))\n",
    "\n",
    "sns.heatmap(corr, vmin=-1, vmax=1, cmap=\"YlGnBu\", annot=True, fmt=\".2f\")\n",
    "\n",
    "plt.show()"
   ]
  },
  {
   "cell_type": "markdown",
   "id": "1bf8b4de",
   "metadata": {},
   "source": [
    "# Modeling"
   ]
  },
  {
   "cell_type": "markdown",
   "id": "a761a83d",
   "metadata": {},
   "source": [
    "Creating functions makes the model trial easier and faster, so small adjustments has to be made manually only ones.\n",
    "\n",
    "Following models are going to be tested: \n",
    "-Logistic Regression, \n",
    "-DecisionTree, \n",
    "-RandomForest, \n",
    "-KNeighborsClassifier \n",
    "-and GradientBoostingClassifier\n",
    "\n",
    "Basically, every model has 2 types of prediction, one that makes the classification by the probability of the classes and the other by the usual way. \n",
    "KNeighborsClassifier needs the input values scaled, thereby the functions were transformed with the necessary completions."
   ]
  },
  {
   "cell_type": "markdown",
   "id": "f154ba3f",
   "metadata": {
    "heading_collapsed": true
   },
   "source": [
    "## Functions and models"
   ]
  },
  {
   "cell_type": "markdown",
   "id": "0c566d29",
   "metadata": {
    "heading_collapsed": true,
    "hidden": true
   },
   "source": [
    "### Functions"
   ]
  },
  {
   "cell_type": "code",
   "execution_count": 28,
   "id": "07a85fa9",
   "metadata": {
    "hidden": true
   },
   "outputs": [],
   "source": [
    "# Collect all the metric results in a df to find the best perfomed model\n",
    "\n",
    "validation = pd.DataFrame({\"Model\":[], \"Accuracy\":[], \"Recall\": [], \"Precision\":[], \"ROC-AUC\":[]})"
   ]
  },
  {
   "cell_type": "code",
   "execution_count": 29,
   "id": "0261f91a",
   "metadata": {
    "hidden": true
   },
   "outputs": [],
   "source": [
    "def class_pred(cmodel, model_name, df, test_size=0.2):\n",
    "    \n",
    "    X = df.iloc[:,:-1]\n",
    "    y = df.iloc[:,-1]\n",
    "    \n",
    "    X_train, X_test, y_train, y_test = train_test_split(X, y, test_size=test_size, random_state=0)\n",
    "    \n",
    "    model = cmodel\n",
    "    model.fit(X_train, y_train)\n",
    "    \n",
    "    cmodel_pred = model.predict(X_test)\n",
    "    \n",
    "    acc = accuracy_score(y_test, cmodel_pred)\n",
    "    recall = recall_score(y_test, cmodel_pred)\n",
    "    precision = precision_score(y_test, cmodel_pred)\n",
    "    roc = roc_auc_score(y_test, cmodel_pred)\n",
    "    \n",
    "    validation.loc[validation.shape[0]+1] = [model_name, acc, recall, precision, roc]"
   ]
  },
  {
   "cell_type": "code",
   "execution_count": 30,
   "id": "a34d76b8",
   "metadata": {
    "hidden": true
   },
   "outputs": [],
   "source": [
    "def class_pred_proba(cmodel, model_name, df, test_size=0.2):\n",
    "    \n",
    "    X = df.iloc[:,:-1]\n",
    "    y = df.iloc[:,-1]\n",
    "    \n",
    "    model = cmodel\n",
    "    \n",
    "    cmodel_pred = cross_val_predict(model, X, y, cv=4, method=\"predict_proba\")\n",
    "    \n",
    "    cmodel_pred = pd.Series(cmodel_pred[:,1]).apply(lambda x: 1 if x >= 0.6 else 0)\n",
    "    \n",
    "    acc = accuracy_score(y, cmodel_pred)\n",
    "    recall = recall_score(y, cmodel_pred)\n",
    "    precision = precision_score(y, cmodel_pred)\n",
    "    roc = roc_auc_score(y, cmodel_pred)\n",
    "    \n",
    "    validation.loc[validation.shape[0]+1] = [model_name, acc, recall, precision, roc]"
   ]
  },
  {
   "cell_type": "code",
   "execution_count": 31,
   "id": "8944c29a",
   "metadata": {
    "hidden": true
   },
   "outputs": [],
   "source": [
    "def class_pred_scaled(cmodel, model_name, df, test_size=0.2):\n",
    "    \n",
    "    X = df.iloc[:,:-1]\n",
    "    y = df.iloc[:,-1]\n",
    "    \n",
    "    X = StandardScaler().fit_transform(X)\n",
    "    \n",
    "    X_train, X_test, y_train, y_test = train_test_split(X, y, test_size=test_size, random_state=0)\n",
    "    \n",
    "    model = cmodel\n",
    "    model.fit(X_train, y_train)\n",
    "    \n",
    "    cmodel_pred = model.predict(X_test)\n",
    "    \n",
    "    acc = accuracy_score(y_test, cmodel_pred)\n",
    "    recall = recall_score(y_test, cmodel_pred)\n",
    "    precision = precision_score(y_test, cmodel_pred)\n",
    "    roc = roc_auc_score(y_test, cmodel_pred)\n",
    "    \n",
    "    validation.loc[validation.shape[0]+1] = [model_name, acc, recall, precision, roc]"
   ]
  },
  {
   "cell_type": "code",
   "execution_count": 32,
   "id": "15d7ab73",
   "metadata": {
    "hidden": true
   },
   "outputs": [],
   "source": [
    "def class_pred_probascaled(cmodel, model_name, df, test_size=0.2):\n",
    "    \n",
    "    X = df.iloc[:,:-1]\n",
    "    y = df.iloc[:,-1]\n",
    "    \n",
    "    X = StandardScaler().fit_transform(X)\n",
    "    \n",
    "    model = cmodel\n",
    "    \n",
    "    cmodel_pred = cross_val_predict(model, X, y, cv=4, method=\"predict_proba\")\n",
    "    \n",
    "    cmodel_pred = pd.Series(cmodel_pred[:,1]).apply(lambda x: 1 if x >= 0.6 else 0)\n",
    "    \n",
    "    acc = accuracy_score(y, cmodel_pred)\n",
    "    recall = recall_score(y, cmodel_pred)\n",
    "    precision = precision_score(y, cmodel_pred)\n",
    "    roc = roc_auc_score(y, cmodel_pred)\n",
    "    \n",
    "    validation.loc[validation.shape[0]+1] = [model_name, acc, recall, precision, roc]"
   ]
  },
  {
   "cell_type": "markdown",
   "id": "a1181815",
   "metadata": {
    "heading_collapsed": true,
    "hidden": true
   },
   "source": [
    "### Logistic Regression"
   ]
  },
  {
   "cell_type": "code",
   "execution_count": 33,
   "id": "d89363f2",
   "metadata": {
    "hidden": true,
    "scrolled": true
   },
   "outputs": [],
   "source": [
    "model_logreg = LogisticRegression()\n",
    "\n",
    "class_pred(model_logreg, \"Logistic Regression\", data) \n",
    "\n",
    "class_pred_proba(model_logreg, \"Logistic Regression Proba\", data)\n",
    "\n",
    "class_pred_scaled(model_logreg, \"Logistic Regression Scaled\", data)"
   ]
  },
  {
   "cell_type": "markdown",
   "id": "90a5b268",
   "metadata": {
    "heading_collapsed": true,
    "hidden": true
   },
   "source": [
    "### DecisionTree"
   ]
  },
  {
   "cell_type": "code",
   "execution_count": 34,
   "id": "e931ad8f",
   "metadata": {
    "hidden": true,
    "scrolled": true
   },
   "outputs": [],
   "source": [
    "model_dtree = DecisionTreeClassifier(max_depth=10, random_state=1)\n",
    "\n",
    "class_pred(model_dtree,\"DecisionTree\", data)\n",
    "\n",
    "class_pred_proba(model_dtree,\"DecisionTree Proba\", data)"
   ]
  },
  {
   "cell_type": "markdown",
   "id": "eee0c361",
   "metadata": {
    "heading_collapsed": true,
    "hidden": true
   },
   "source": [
    "### KNN"
   ]
  },
  {
   "cell_type": "code",
   "execution_count": 35,
   "id": "ec968de9",
   "metadata": {
    "hidden": true
   },
   "outputs": [],
   "source": [
    "model_knn = KNeighborsClassifier(n_neighbors=10)\n",
    "\n",
    "class_pred_scaled(model_knn,\"KNN\", data)\n",
    "\n",
    "class_pred_probascaled(model_knn,\"KNN Proba\", data)"
   ]
  },
  {
   "cell_type": "markdown",
   "id": "5aac1517",
   "metadata": {
    "heading_collapsed": true,
    "hidden": true
   },
   "source": [
    "### RandomForest"
   ]
  },
  {
   "cell_type": "code",
   "execution_count": 36,
   "id": "fe16a887",
   "metadata": {
    "hidden": true,
    "scrolled": true
   },
   "outputs": [],
   "source": [
    "model_rforest = RandomForestClassifier(n_estimators=100, max_depth=10, random_state=1)\n",
    "\n",
    "class_pred(model_rforest,\"RandomForest\", data)\n",
    "\n",
    "class_pred_proba(model_rforest,\"RandomForest Proba\", data)"
   ]
  },
  {
   "cell_type": "markdown",
   "id": "8de9bb8f",
   "metadata": {
    "heading_collapsed": true,
    "hidden": true
   },
   "source": [
    "### GradientBoosting"
   ]
  },
  {
   "cell_type": "code",
   "execution_count": 37,
   "id": "dc116bcd",
   "metadata": {
    "hidden": true,
    "scrolled": false
   },
   "outputs": [],
   "source": [
    "model_gb = GradientBoostingClassifier(n_estimators=100, max_depth=10, learning_rate=0.1, random_state=1)\n",
    "\n",
    "class_pred(model_gb,\"GradientBoosting\", data)\n",
    "\n",
    "class_pred_proba(model_gb,\"GradientBoosting Proba\", data)"
   ]
  },
  {
   "cell_type": "markdown",
   "id": "f7729a53",
   "metadata": {
    "heading_collapsed": true
   },
   "source": [
    "# Validation metrics order"
   ]
  },
  {
   "cell_type": "markdown",
   "id": "0fd19db7",
   "metadata": {
    "hidden": true
   },
   "source": [
    "After the validation df has all the 11 model results, sorting it by the chosen metrics"
   ]
  },
  {
   "cell_type": "code",
   "execution_count": 38,
   "id": "a552f51e",
   "metadata": {
    "hidden": true
   },
   "outputs": [
    {
     "data": {
      "text/html": [
       "<div>\n",
       "<style scoped>\n",
       "    .dataframe tbody tr th:only-of-type {\n",
       "        vertical-align: middle;\n",
       "    }\n",
       "\n",
       "    .dataframe tbody tr th {\n",
       "        vertical-align: top;\n",
       "    }\n",
       "\n",
       "    .dataframe thead th {\n",
       "        text-align: right;\n",
       "    }\n",
       "</style>\n",
       "<table border=\"1\" class=\"dataframe\">\n",
       "  <thead>\n",
       "    <tr style=\"text-align: right;\">\n",
       "      <th></th>\n",
       "      <th>Model</th>\n",
       "      <th>Accuracy</th>\n",
       "      <th>Recall</th>\n",
       "      <th>Precision</th>\n",
       "      <th>ROC-AUC</th>\n",
       "    </tr>\n",
       "  </thead>\n",
       "  <tbody>\n",
       "    <tr>\n",
       "      <th>3</th>\n",
       "      <td>Logistic Regression Scaled</td>\n",
       "      <td>0.837398</td>\n",
       "      <td>0.977778</td>\n",
       "      <td>0.830189</td>\n",
       "      <td>0.716162</td>\n",
       "    </tr>\n",
       "    <tr>\n",
       "      <th>6</th>\n",
       "      <td>KNN</td>\n",
       "      <td>0.821138</td>\n",
       "      <td>0.955556</td>\n",
       "      <td>0.826923</td>\n",
       "      <td>0.705051</td>\n",
       "    </tr>\n",
       "    <tr>\n",
       "      <th>8</th>\n",
       "      <td>RandomForest</td>\n",
       "      <td>0.796748</td>\n",
       "      <td>0.933333</td>\n",
       "      <td>0.815534</td>\n",
       "      <td>0.678788</td>\n",
       "    </tr>\n",
       "    <tr>\n",
       "      <th>10</th>\n",
       "      <td>GradientBoosting</td>\n",
       "      <td>0.788618</td>\n",
       "      <td>0.888889</td>\n",
       "      <td>0.833333</td>\n",
       "      <td>0.702020</td>\n",
       "    </tr>\n",
       "    <tr>\n",
       "      <th>7</th>\n",
       "      <td>KNN Proba</td>\n",
       "      <td>0.786645</td>\n",
       "      <td>0.957346</td>\n",
       "      <td>0.781431</td>\n",
       "      <td>0.684402</td>\n",
       "    </tr>\n",
       "  </tbody>\n",
       "</table>\n",
       "</div>"
      ],
      "text/plain": [
       "                         Model  Accuracy    Recall  Precision   ROC-AUC\n",
       "3   Logistic Regression Scaled  0.837398  0.977778   0.830189  0.716162\n",
       "6                          KNN  0.821138  0.955556   0.826923  0.705051\n",
       "8                 RandomForest  0.796748  0.933333   0.815534  0.678788\n",
       "10            GradientBoosting  0.788618  0.888889   0.833333  0.702020\n",
       "7                    KNN Proba  0.786645  0.957346   0.781431  0.684402"
      ]
     },
     "execution_count": 38,
     "metadata": {},
     "output_type": "execute_result"
    }
   ],
   "source": [
    "# By Accuracy\n",
    "\n",
    "validation.sort_values(by=\"Accuracy\", ascending=False).head()"
   ]
  },
  {
   "cell_type": "code",
   "execution_count": 39,
   "id": "25ee6f0a",
   "metadata": {
    "hidden": true
   },
   "outputs": [
    {
     "data": {
      "text/html": [
       "<div>\n",
       "<style scoped>\n",
       "    .dataframe tbody tr th:only-of-type {\n",
       "        vertical-align: middle;\n",
       "    }\n",
       "\n",
       "    .dataframe tbody tr th {\n",
       "        vertical-align: top;\n",
       "    }\n",
       "\n",
       "    .dataframe thead th {\n",
       "        text-align: right;\n",
       "    }\n",
       "</style>\n",
       "<table border=\"1\" class=\"dataframe\">\n",
       "  <thead>\n",
       "    <tr style=\"text-align: right;\">\n",
       "      <th></th>\n",
       "      <th>Model</th>\n",
       "      <th>Accuracy</th>\n",
       "      <th>Recall</th>\n",
       "      <th>Precision</th>\n",
       "      <th>ROC-AUC</th>\n",
       "    </tr>\n",
       "  </thead>\n",
       "  <tbody>\n",
       "    <tr>\n",
       "      <th>3</th>\n",
       "      <td>Logistic Regression Scaled</td>\n",
       "      <td>0.837398</td>\n",
       "      <td>0.977778</td>\n",
       "      <td>0.830189</td>\n",
       "      <td>0.716162</td>\n",
       "    </tr>\n",
       "    <tr>\n",
       "      <th>6</th>\n",
       "      <td>KNN</td>\n",
       "      <td>0.821138</td>\n",
       "      <td>0.955556</td>\n",
       "      <td>0.826923</td>\n",
       "      <td>0.705051</td>\n",
       "    </tr>\n",
       "    <tr>\n",
       "      <th>2</th>\n",
       "      <td>Logistic Regression Proba</td>\n",
       "      <td>0.773616</td>\n",
       "      <td>0.890995</td>\n",
       "      <td>0.801706</td>\n",
       "      <td>0.703310</td>\n",
       "    </tr>\n",
       "    <tr>\n",
       "      <th>10</th>\n",
       "      <td>GradientBoosting</td>\n",
       "      <td>0.788618</td>\n",
       "      <td>0.888889</td>\n",
       "      <td>0.833333</td>\n",
       "      <td>0.702020</td>\n",
       "    </tr>\n",
       "    <tr>\n",
       "      <th>9</th>\n",
       "      <td>RandomForest Proba</td>\n",
       "      <td>0.767101</td>\n",
       "      <td>0.883886</td>\n",
       "      <td>0.798715</td>\n",
       "      <td>0.697151</td>\n",
       "    </tr>\n",
       "  </tbody>\n",
       "</table>\n",
       "</div>"
      ],
      "text/plain": [
       "                         Model  Accuracy    Recall  Precision   ROC-AUC\n",
       "3   Logistic Regression Scaled  0.837398  0.977778   0.830189  0.716162\n",
       "6                          KNN  0.821138  0.955556   0.826923  0.705051\n",
       "2    Logistic Regression Proba  0.773616  0.890995   0.801706  0.703310\n",
       "10            GradientBoosting  0.788618  0.888889   0.833333  0.702020\n",
       "9           RandomForest Proba  0.767101  0.883886   0.798715  0.697151"
      ]
     },
     "execution_count": 39,
     "metadata": {},
     "output_type": "execute_result"
    }
   ],
   "source": [
    "# By ROC-AUC\n",
    "\n",
    "validation.sort_values(by=\"ROC-AUC\", ascending=False).head()"
   ]
  },
  {
   "cell_type": "markdown",
   "id": "a989529f",
   "metadata": {},
   "source": [
    "# Prediction on test set"
   ]
  },
  {
   "cell_type": "markdown",
   "id": "63d39e1e",
   "metadata": {},
   "source": [
    "Similarily to the preprocessing steps of the train set, the test set must be explored and prepared according to the same patterns as visualizing the input features, handling missing values, encoding categorical variables, convert variable type to the necessary format for modelling, too. "
   ]
  },
  {
   "cell_type": "markdown",
   "id": "2593b212",
   "metadata": {
    "heading_collapsed": true
   },
   "source": [
    "## Test set EDA & preprocessing"
   ]
  },
  {
   "cell_type": "code",
   "execution_count": 40,
   "id": "2e144aba",
   "metadata": {
    "hidden": true
   },
   "outputs": [
    {
     "data": {
      "text/html": [
       "<div>\n",
       "<style scoped>\n",
       "    .dataframe tbody tr th:only-of-type {\n",
       "        vertical-align: middle;\n",
       "    }\n",
       "\n",
       "    .dataframe tbody tr th {\n",
       "        vertical-align: top;\n",
       "    }\n",
       "\n",
       "    .dataframe thead th {\n",
       "        text-align: right;\n",
       "    }\n",
       "</style>\n",
       "<table border=\"1\" class=\"dataframe\">\n",
       "  <thead>\n",
       "    <tr style=\"text-align: right;\">\n",
       "      <th></th>\n",
       "      <th>Loan_ID</th>\n",
       "      <th>Gender</th>\n",
       "      <th>Married</th>\n",
       "      <th>Dependents</th>\n",
       "      <th>Education</th>\n",
       "      <th>Self_Employed</th>\n",
       "      <th>ApplicantIncome</th>\n",
       "      <th>CoapplicantIncome</th>\n",
       "      <th>LoanAmount</th>\n",
       "      <th>Loan_Amount_Term</th>\n",
       "      <th>Credit_History</th>\n",
       "      <th>Property_Area</th>\n",
       "    </tr>\n",
       "  </thead>\n",
       "  <tbody>\n",
       "    <tr>\n",
       "      <th>0</th>\n",
       "      <td>LP001015</td>\n",
       "      <td>Male</td>\n",
       "      <td>Yes</td>\n",
       "      <td>0</td>\n",
       "      <td>Graduate</td>\n",
       "      <td>No</td>\n",
       "      <td>5720</td>\n",
       "      <td>0</td>\n",
       "      <td>110.0</td>\n",
       "      <td>360.0</td>\n",
       "      <td>1.0</td>\n",
       "      <td>Urban</td>\n",
       "    </tr>\n",
       "    <tr>\n",
       "      <th>1</th>\n",
       "      <td>LP001022</td>\n",
       "      <td>Male</td>\n",
       "      <td>Yes</td>\n",
       "      <td>1</td>\n",
       "      <td>Graduate</td>\n",
       "      <td>No</td>\n",
       "      <td>3076</td>\n",
       "      <td>1500</td>\n",
       "      <td>126.0</td>\n",
       "      <td>360.0</td>\n",
       "      <td>1.0</td>\n",
       "      <td>Urban</td>\n",
       "    </tr>\n",
       "    <tr>\n",
       "      <th>2</th>\n",
       "      <td>LP001031</td>\n",
       "      <td>Male</td>\n",
       "      <td>Yes</td>\n",
       "      <td>2</td>\n",
       "      <td>Graduate</td>\n",
       "      <td>No</td>\n",
       "      <td>5000</td>\n",
       "      <td>1800</td>\n",
       "      <td>208.0</td>\n",
       "      <td>360.0</td>\n",
       "      <td>1.0</td>\n",
       "      <td>Urban</td>\n",
       "    </tr>\n",
       "    <tr>\n",
       "      <th>3</th>\n",
       "      <td>LP001035</td>\n",
       "      <td>Male</td>\n",
       "      <td>Yes</td>\n",
       "      <td>2</td>\n",
       "      <td>Graduate</td>\n",
       "      <td>No</td>\n",
       "      <td>2340</td>\n",
       "      <td>2546</td>\n",
       "      <td>100.0</td>\n",
       "      <td>360.0</td>\n",
       "      <td>NaN</td>\n",
       "      <td>Urban</td>\n",
       "    </tr>\n",
       "    <tr>\n",
       "      <th>4</th>\n",
       "      <td>LP001051</td>\n",
       "      <td>Male</td>\n",
       "      <td>No</td>\n",
       "      <td>0</td>\n",
       "      <td>Not Graduate</td>\n",
       "      <td>No</td>\n",
       "      <td>3276</td>\n",
       "      <td>0</td>\n",
       "      <td>78.0</td>\n",
       "      <td>360.0</td>\n",
       "      <td>1.0</td>\n",
       "      <td>Urban</td>\n",
       "    </tr>\n",
       "  </tbody>\n",
       "</table>\n",
       "</div>"
      ],
      "text/plain": [
       "    Loan_ID Gender Married Dependents     Education Self_Employed  \\\n",
       "0  LP001015   Male     Yes          0      Graduate            No   \n",
       "1  LP001022   Male     Yes          1      Graduate            No   \n",
       "2  LP001031   Male     Yes          2      Graduate            No   \n",
       "3  LP001035   Male     Yes          2      Graduate            No   \n",
       "4  LP001051   Male      No          0  Not Graduate            No   \n",
       "\n",
       "   ApplicantIncome  CoapplicantIncome  LoanAmount  Loan_Amount_Term  \\\n",
       "0             5720                  0       110.0             360.0   \n",
       "1             3076               1500       126.0             360.0   \n",
       "2             5000               1800       208.0             360.0   \n",
       "3             2340               2546       100.0             360.0   \n",
       "4             3276                  0        78.0             360.0   \n",
       "\n",
       "   Credit_History Property_Area  \n",
       "0             1.0         Urban  \n",
       "1             1.0         Urban  \n",
       "2             1.0         Urban  \n",
       "3             NaN         Urban  \n",
       "4             1.0         Urban  "
      ]
     },
     "execution_count": 40,
     "metadata": {},
     "output_type": "execute_result"
    }
   ],
   "source": [
    "test_df.head()"
   ]
  },
  {
   "cell_type": "code",
   "execution_count": 41,
   "id": "ba0d3ca4",
   "metadata": {
    "hidden": true
   },
   "outputs": [
    {
     "data": {
      "text/plain": [
       "(367, 12)"
      ]
     },
     "execution_count": 41,
     "metadata": {},
     "output_type": "execute_result"
    }
   ],
   "source": [
    "test_df.shape"
   ]
  },
  {
   "cell_type": "code",
   "execution_count": 42,
   "id": "52b17621",
   "metadata": {
    "hidden": true
   },
   "outputs": [
    {
     "data": {
      "text/plain": [
       "Loan_ID               0\n",
       "Gender               11\n",
       "Married               0\n",
       "Dependents           10\n",
       "Education             0\n",
       "Self_Employed        23\n",
       "ApplicantIncome       0\n",
       "CoapplicantIncome     0\n",
       "LoanAmount            5\n",
       "Loan_Amount_Term      6\n",
       "Credit_History       29\n",
       "Property_Area         0\n",
       "dtype: int64"
      ]
     },
     "execution_count": 42,
     "metadata": {},
     "output_type": "execute_result"
    }
   ],
   "source": [
    "test_df.isna().sum()"
   ]
  },
  {
   "cell_type": "code",
   "execution_count": 43,
   "id": "1c27651a",
   "metadata": {
    "hidden": true
   },
   "outputs": [
    {
     "data": {
      "image/png": "[encoded data removed]",
      "text/plain": [
       "<Figure size 1224x288 with 5 Axes>"
      ]
     },
     "metadata": {
      "needs_background": "light"
     },
     "output_type": "display_data"
    }
   ],
   "source": [
    "# Checking the distributions of categorical features with missing values\n",
    "\n",
    "fig, ax  = plt.subplots(1,5, figsize=(17,4))\n",
    "\n",
    "test_df[\"Gender\"].value_counts().plot(kind=\"bar\", ax=ax[0], title=\"Gender\")\n",
    "test_df[\"Dependents\"].value_counts().plot(kind=\"bar\", ax=ax[1], title=\"Dependents\")\n",
    "test_df[\"Self_Employed\"].value_counts().plot(kind=\"bar\", ax=ax[2], title=\"Self employed\")\n",
    "test_df[\"Credit_History\"].value_counts().plot(kind=\"bar\", ax=ax[3], title=\"Credit history\")\n",
    "test_df[\"Loan_Amount_Term\"].value_counts().plot(kind=\"bar\", ax=ax[4], title=\"Loan Term\")\n",
    "\n",
    "plt.show()"
   ]
  },
  {
   "cell_type": "code",
   "execution_count": 44,
   "id": "6ec8b01b",
   "metadata": {
    "hidden": true
   },
   "outputs": [],
   "source": [
    "# Fill up the missing values\n",
    "\n",
    "test_df[\"Gender\"] = test_df[\"Gender\"].fillna(\"Male\")\n",
    "\n",
    "test_df[\"Dependents\"] = test_df[\"Dependents\"].fillna(\"0\")\n",
    "\n",
    "test_df[\"Self_Employed\"] = test_df[\"Self_Employed\"].fillna(\"No\")\n",
    "\n",
    "testloan_mean = int(round(test_df[\"LoanAmount\"].mean(),0))\n",
    "test_df[\"LoanAmount\"] = test_df[\"LoanAmount\"].fillna(testloan_mean)\n",
    "\n",
    "test_df[\"Loan_Amount_Term\"] = test_df[\"Loan_Amount_Term\"].fillna(360.0)\n",
    "\n",
    "test_df[\"Credit_History\"] = test_df[\"Credit_History\"].fillna(1.0)"
   ]
  },
  {
   "cell_type": "code",
   "execution_count": 45,
   "id": "4fee6e1f",
   "metadata": {
    "hidden": true
   },
   "outputs": [],
   "source": [
    "# Collecting separately categorical variable columns\n",
    "labels = test_df[[\"Gender\", \"Married\", \"Dependents\", \"Education\", \"Self_Employed\", \"Loan_Amount_Term\", \"Credit_History\", \"Property_Area\"]]"
   ]
  },
  {
   "cell_type": "code",
   "execution_count": 46,
   "id": "c0e9d05a",
   "metadata": {
    "hidden": true
   },
   "outputs": [],
   "source": [
    "# Since we want to get a df with the same number of columns, encoding of \"Property Area\" has to be made by dummy encoding, as well \n",
    "area_dummie = pd.get_dummies(labels[\"Property_Area\"], prefix=\"area\")\n",
    "labels = pd.concat([labels, area_dummie], axis=1)\n",
    "\n",
    "# Dropping the original \"Property Area\" column\n",
    "labels = labels.drop(columns={\"Property_Area\"})\n",
    "\n",
    "# Convertin the codes to normal integers\n",
    "labels[\"area_Rural\"] = labels[\"area_Rural\"].astype(int) \n",
    "labels[\"area_Semiurban\"] = labels[\"area_Semiurban\"].astype(int) \n",
    "labels[\"area_Urban\"] = labels[\"area_Urban\"].astype(int) "
   ]
  },
  {
   "cell_type": "code",
   "execution_count": 47,
   "id": "2d04966d",
   "metadata": {
    "hidden": true
   },
   "outputs": [],
   "source": [
    "# Encoding the rest of the catogorical variables the fastest way\n",
    "\n",
    "col_list = labels.columns.tolist()\n",
    "\n",
    "col_list = [\"Gender\",\"Married\",\"Dependents\",\"Education\",\"Self_Employed\",\"Loan_Amount_Term\",\"Credit_History\"]\n",
    "\n",
    "for col in col_list:\n",
    "    \n",
    "    labels[col] = le.fit_transform(labels[col])"
   ]
  },
  {
   "cell_type": "code",
   "execution_count": 48,
   "id": "b4b7a7d4",
   "metadata": {
    "hidden": true
   },
   "outputs": [],
   "source": [
    "# Numerical variables\n",
    "\n",
    "num_cols = test_df[[\"ApplicantIncome\", \"CoapplicantIncome\", \"LoanAmount\"]]"
   ]
  },
  {
   "cell_type": "code",
   "execution_count": 49,
   "id": "4ddc1f43",
   "metadata": {
    "hidden": true
   },
   "outputs": [],
   "source": [
    "# Creating the final df for prediction \n",
    "\n",
    "pred_df = pd.concat([labels, num_cols], 1)"
   ]
  },
  {
   "cell_type": "markdown",
   "id": "34b518c4",
   "metadata": {},
   "source": [
    "## Prediction"
   ]
  },
  {
   "cell_type": "markdown",
   "id": "248206de",
   "metadata": {},
   "source": [
    "Choosing from the best perfomed models for the final predicition"
   ]
  },
  {
   "cell_type": "code",
   "execution_count": 50,
   "id": "a46d999c",
   "metadata": {},
   "outputs": [],
   "source": [
    "# Logistic Regression\n",
    "\n",
    "X_train = data.iloc[:,:-1]\n",
    "y_train = data.iloc[:,-1]\n",
    "    \n",
    "scaler = StandardScaler()    \n",
    "    \n",
    "X_train = scaler.fit_transform(X_train)\n",
    "\n",
    "X_test = pred_df.loc[:,:]\n",
    "\n",
    "X_test = scaler.transform(X_test)\n",
    "\n",
    "model = LogisticRegression()\n",
    "\n",
    "model.fit(X_train, y_train)\n",
    "\n",
    "final_logreg = model.predict(X_test)"
   ]
  },
  {
   "cell_type": "code",
   "execution_count": 51,
   "id": "2264a821",
   "metadata": {},
   "outputs": [],
   "source": [
    "# KNeighbors\n",
    "\n",
    "model = KNeighborsClassifier(n_neighbors=10)\n",
    "\n",
    "model.fit(X_train, y_train)\n",
    "\n",
    "final_knn = model.predict(X_test)"
   ]
  },
  {
   "cell_type": "code",
   "execution_count": 52,
   "id": "419b48e4",
   "metadata": {},
   "outputs": [],
   "source": [
    "# RandomForest\n",
    "\n",
    "X_train = data.iloc[:,:-1]\n",
    "y_train = data.iloc[:,-1]\n",
    "\n",
    "X_test = pred_df.loc[:,:]\n",
    "\n",
    "model = RandomForestClassifier(n_estimators=100, max_depth=10, random_state=1)\n",
    "\n",
    "model.fit(X_train, y_train)\n",
    "\n",
    "final_rf = model.predict(X_test)"
   ]
  },
  {
   "cell_type": "code",
   "execution_count": 53,
   "id": "904f05d7",
   "metadata": {},
   "outputs": [],
   "source": [
    "# GradientBoosting\n",
    "\n",
    "X_train = data.iloc[:,:-1]\n",
    "y_train = data.iloc[:,-1]\n",
    "\n",
    "X_test = pred_df.loc[:,:]\n",
    "\n",
    "model = GradientBoostingClassifier(n_estimators=100, max_depth=10, learning_rate=0.1, random_state=1)\n",
    "\n",
    "model.fit(X_train, y_train)\n",
    "\n",
    "final_gb = model.predict(X_test)"
   ]
  },
  {
   "cell_type": "code",
   "execution_count": 54,
   "id": "6d799275",
   "metadata": {},
   "outputs": [],
   "source": [
    "# Taking the predicitions to the pred_df\n",
    "\n",
    "pred_df[\"loan_status_logreg\"] = final_logreg\n",
    "pred_df[\"loan_status_knn\"] = final_knn\n",
    "pred_df[\"loan_status_rf\"] = final_rf\n",
    "pred_df[\"loan_status_gb\"] = final_gb"
   ]
  },
  {
   "cell_type": "code",
   "execution_count": 55,
   "id": "1606f64c",
   "metadata": {},
   "outputs": [
    {
     "data": {
      "image/png": "[encoded data removed]",
      "text/plain": [
       "<Figure size 1080x288 with 4 Axes>"
      ]
     },
     "metadata": {
      "needs_background": "light"
     },
     "output_type": "display_data"
    }
   ],
   "source": [
    "# Visualize the loan status predictions\n",
    "\n",
    "fig, ax = plt.subplots(1,4, figsize=(15,4))\n",
    "\n",
    "pred_df[\"loan_status_logreg\"].value_counts().plot(kind=\"bar\", title=\"Logreg\", ax=ax[0])\n",
    "pred_df[\"loan_status_knn\"].value_counts().plot(kind=\"bar\", title=\"Knn\", ax=ax[1])\n",
    "pred_df[\"loan_status_rf\"].value_counts().plot(kind=\"bar\", title=\"RandomForest\", ax=ax[2])\n",
    "pred_df[\"loan_status_gb\"].value_counts().plot(kind=\"bar\", title=\"GradientBoosting\", ax=ax[3])\n",
    "\n",
    "plt.show()"
   ]
  },
  {
   "cell_type": "code",
   "execution_count": null,
   "id": "eeff4947",
   "metadata": {},
   "outputs": [],
   "source": []
  }
 ],
 "metadata": {
  "kernelspec": {
   "display_name": "Python 3",
   "language": "python",
   "name": "python3"
  },
  "language_info": {
   "codemirror_mode": {
    "name": "ipython",
    "version": 3
   },
   "file_extension": ".py",
   "mimetype": "text/x-python",
   "name": "python",
   "nbconvert_exporter": "python",
   "pygments_lexer": "ipython3",
   "version": "3.8.8"
  },
  "toc": {
   "base_numbering": 1,
   "nav_menu": {},
   "number_sections": true,
   "sideBar": true,
   "skip_h1_title": false,
   "title_cell": "Table of Contents",
   "title_sidebar": "Contents",
   "toc_cell": false,
   "toc_position": {
    "height": "calc(100% - 180px)",
    "left": "10px",
    "top": "150px",
    "width": "165px"
   },
   "toc_section_display": true,
   "toc_window_display": true
  }
 },
 "nbformat": 4,
 "nbformat_minor": 5
}
